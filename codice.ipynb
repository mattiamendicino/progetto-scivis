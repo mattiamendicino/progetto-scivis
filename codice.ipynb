{
 "cells": [
  {
   "cell_type": "code",
   "execution_count": 1,
   "id": "1fad0a18",
   "metadata": {},
   "outputs": [],
   "source": [
    "import pandas as pd\n",
    "import matplotlib.pyplot as plt"
   ]
  },
  {
   "cell_type": "markdown",
   "id": "35284ca8",
   "metadata": {},
   "source": [
    "# Dataset"
   ]
  },
  {
   "cell_type": "markdown",
   "id": "ab736e69",
   "metadata": {},
   "source": [
    "## Produzione di energia elettrica"
   ]
  },
  {
   "cell_type": "markdown",
   "id": "c84f05a1",
   "metadata": {},
   "source": [
    "I dati sulla produzione di energia elettrica sono tratti dal sito web della BP sezione “Energy economics; Statistical review of world energy”.\n",
    "https://www.bp.com/en/global/corporate/energy-economics/statistical-review-of-world-energy.html"
   ]
  },
  {
   "cell_type": "markdown",
   "id": "07eeb3db",
   "metadata": {},
   "source": [
    "### Pulizia del dataset"
   ]
  },
  {
   "cell_type": "markdown",
   "id": "b3fe3489",
   "metadata": {},
   "source": [
    "Il dataset viene filtrato prendendo in considerazione solo le colonne relative alla produzione di energia elettrica ed eliminando le somme parziali (che nel dataset sono quelle righe in cui 'Country' contiene la parola 'Total', per esempio 'Total Europa', 'Total Africa', ecc...). Dopo di che vengono presi i dati a partire dal 1985 e viene fatto il renaming di alcuni attributi."
   ]
  },
  {
   "cell_type": "code",
   "execution_count": 2,
   "id": "9f2d58ce",
   "metadata": {},
   "outputs": [
    {
     "data": {
      "text/html": [
       "<div>\n",
       "<style scoped>\n",
       "    .dataframe tbody tr th:only-of-type {\n",
       "        vertical-align: middle;\n",
       "    }\n",
       "\n",
       "    .dataframe tbody tr th {\n",
       "        vertical-align: top;\n",
       "    }\n",
       "\n",
       "    .dataframe thead th {\n",
       "        text-align: right;\n",
       "    }\n",
       "</style>\n",
       "<table border=\"1\" class=\"dataframe\">\n",
       "  <thead>\n",
       "    <tr style=\"text-align: right;\">\n",
       "      <th></th>\n",
       "      <th>ISO</th>\n",
       "      <th>Country</th>\n",
       "      <th>Year</th>\n",
       "      <th>Pop</th>\n",
       "      <th>EU</th>\n",
       "      <th>Region</th>\n",
       "      <th>SubRegion</th>\n",
       "      <th>ElectBy_Coal</th>\n",
       "      <th>ElectBy_Gas</th>\n",
       "      <th>ElectBy_Hydro</th>\n",
       "      <th>ElectBy_Nuclear</th>\n",
       "      <th>ElectBy_Oil</th>\n",
       "      <th>ElectBy_Other</th>\n",
       "      <th>ElectBy_NewRenewables</th>\n",
       "      <th>Total_ElectProd</th>\n",
       "    </tr>\n",
       "  </thead>\n",
       "  <tbody>\n",
       "    <tr>\n",
       "      <th>2328</th>\n",
       "      <td>ITA</td>\n",
       "      <td>Italy</td>\n",
       "      <td>2019</td>\n",
       "      <td>59.91075</td>\n",
       "      <td>1.0</td>\n",
       "      <td>Europe</td>\n",
       "      <td>Europe</td>\n",
       "      <td>21.291300</td>\n",
       "      <td>141.687000</td>\n",
       "      <td>47.154800</td>\n",
       "      <td>NaN</td>\n",
       "      <td>11.822400</td>\n",
       "      <td>2.536900</td>\n",
       "      <td>69.360800</td>\n",
       "      <td>293.853200</td>\n",
       "    </tr>\n",
       "    <tr>\n",
       "      <th>2329</th>\n",
       "      <td>ITA</td>\n",
       "      <td>Italy</td>\n",
       "      <td>2020</td>\n",
       "      <td>59.48365</td>\n",
       "      <td>1.0</td>\n",
       "      <td>Europe</td>\n",
       "      <td>Europe</td>\n",
       "      <td>15.076100</td>\n",
       "      <td>133.682800</td>\n",
       "      <td>45.728624</td>\n",
       "      <td>NaN</td>\n",
       "      <td>11.439900</td>\n",
       "      <td>5.789642</td>\n",
       "      <td>68.813934</td>\n",
       "      <td>280.531000</td>\n",
       "    </tr>\n",
       "    <tr>\n",
       "      <th>2330</th>\n",
       "      <td>ITA</td>\n",
       "      <td>Italy</td>\n",
       "      <td>2021</td>\n",
       "      <td>59.26080</td>\n",
       "      <td>1.0</td>\n",
       "      <td>Europe</td>\n",
       "      <td>Europe</td>\n",
       "      <td>14.523271</td>\n",
       "      <td>146.418501</td>\n",
       "      <td>43.056321</td>\n",
       "      <td>NaN</td>\n",
       "      <td>8.274411</td>\n",
       "      <td>3.489428</td>\n",
       "      <td>71.441345</td>\n",
       "      <td>287.203277</td>\n",
       "    </tr>\n",
       "  </tbody>\n",
       "</table>\n",
       "</div>"
      ],
      "text/plain": [
       "      ISO Country  Year       Pop   EU  Region SubRegion  ElectBy_Coal  \\\n",
       "2328  ITA   Italy  2019  59.91075  1.0  Europe    Europe     21.291300   \n",
       "2329  ITA   Italy  2020  59.48365  1.0  Europe    Europe     15.076100   \n",
       "2330  ITA   Italy  2021  59.26080  1.0  Europe    Europe     14.523271   \n",
       "\n",
       "      ElectBy_Gas  ElectBy_Hydro  ElectBy_Nuclear  ElectBy_Oil  ElectBy_Other  \\\n",
       "2328   141.687000      47.154800              NaN    11.822400       2.536900   \n",
       "2329   133.682800      45.728624              NaN    11.439900       5.789642   \n",
       "2330   146.418501      43.056321              NaN     8.274411       3.489428   \n",
       "\n",
       "      ElectBy_NewRenewables  Total_ElectProd  \n",
       "2328              69.360800       293.853200  \n",
       "2329              68.813934       280.531000  \n",
       "2330              71.441345       287.203277  "
      ]
     },
     "execution_count": 2,
     "metadata": {},
     "output_type": "execute_result"
    }
   ],
   "source": [
    "production_data_with_totals = pd.read_csv('data/bp-stats-review-2022-consolidated-dataset-panel-format.csv')\n",
    "production_data = production_data_with_totals[~((production_data_with_totals['Country'].str.contains('Total')) | (production_data_with_totals['Region'].str.contains('Total')) | (production_data_with_totals['SubRegion'].str.contains('Total')))]\n",
    "production_data = production_data[['ISO3166_alpha3',\n",
    "                                   'Country',\n",
    "                                   'Year',\n",
    "                                   'pop',\n",
    "                                   'EU',\n",
    "                                   'Region',\n",
    "                                   'SubRegion',\n",
    "                                   'electbyfuel_coal',\n",
    "                                   'electbyfuel_gas', \n",
    "                                   'electbyfuel_hydro', \n",
    "                                   'electbyfuel_nuclear', \n",
    "                                   'electbyfuel_oil', \n",
    "                                   'electbyfuel_other', \n",
    "                                   'electbyfuel_ren_power', \n",
    "                                   'electbyfuel_total']]\n",
    "production_data = production_data[production_data['Year'] >= 1985]\n",
    "production_data = production_data.rename(columns={\n",
    "    'ISO3166_alpha3': 'ISO',\n",
    "    'pop': 'Pop',\n",
    "    'electbyfuel_coal': 'ElectBy_Coal',\n",
    "    'electbyfuel_gas': 'ElectBy_Gas',\n",
    "    'electbyfuel_hydro': 'ElectBy_Hydro',\n",
    "    'electbyfuel_nuclear': 'ElectBy_Nuclear',\n",
    "    'electbyfuel_oil': 'ElectBy_Oil',\n",
    "    'electbyfuel_other': 'ElectBy_Other',\n",
    "    'electbyfuel_ren_power': 'ElectBy_NewRenewables',\n",
    "    'electbyfuel_total': 'Total_ElectProd'\n",
    "})\n",
    "production_data[(production_data['ISO'] == 'ITA') & (production_data['Year'] >= 2019)]\n"
   ]
  },
  {
   "cell_type": "markdown",
   "id": "49262204",
   "metadata": {},
   "source": [
    "## Emissioni di CO2"
   ]
  },
  {
   "cell_type": "markdown",
   "id": "b55cda18",
   "metadata": {},
   "source": [
    "I dati sulle emissioni di CO2 sono tratti dal sito web della Commissione Europea EDGAR (Emission database for global atmospheric research) sezione “CO2 and GHG Emission reports”.\n",
    "https://edgar.jrc.ec.europa.eu/report_2022#data_download"
   ]
  },
  {
   "cell_type": "markdown",
   "id": "039b86d4",
   "metadata": {},
   "source": [
    "### Pulizia ed elaborazione del dataset"
   ]
  },
  {
   "cell_type": "code",
   "execution_count": 3,
   "id": "3936fd51",
   "metadata": {
    "scrolled": false
   },
   "outputs": [
    {
     "data": {
      "text/html": [
       "<div>\n",
       "<style scoped>\n",
       "    .dataframe tbody tr th:only-of-type {\n",
       "        vertical-align: middle;\n",
       "    }\n",
       "\n",
       "    .dataframe tbody tr th {\n",
       "        vertical-align: top;\n",
       "    }\n",
       "\n",
       "    .dataframe thead th {\n",
       "        text-align: right;\n",
       "    }\n",
       "</style>\n",
       "<table border=\"1\" class=\"dataframe\">\n",
       "  <thead>\n",
       "    <tr style=\"text-align: right;\">\n",
       "      <th></th>\n",
       "      <th>Substance</th>\n",
       "      <th>Sector</th>\n",
       "      <th>EDGAR Country Code</th>\n",
       "      <th>Country</th>\n",
       "      <th>1970</th>\n",
       "      <th>1971</th>\n",
       "      <th>1972</th>\n",
       "      <th>1973</th>\n",
       "      <th>1974</th>\n",
       "      <th>1975</th>\n",
       "      <th>...</th>\n",
       "      <th>2012</th>\n",
       "      <th>2013</th>\n",
       "      <th>2014</th>\n",
       "      <th>2015</th>\n",
       "      <th>2016</th>\n",
       "      <th>2017</th>\n",
       "      <th>2018</th>\n",
       "      <th>2019</th>\n",
       "      <th>2020</th>\n",
       "      <th>2021</th>\n",
       "    </tr>\n",
       "  </thead>\n",
       "  <tbody>\n",
       "    <tr>\n",
       "      <th>94</th>\n",
       "      <td>CO2</td>\n",
       "      <td>Power Industry</td>\n",
       "      <td>ITA</td>\n",
       "      <td>Italy, San Marino and the Holy See</td>\n",
       "      <td>51.622832</td>\n",
       "      <td>57.961169</td>\n",
       "      <td>62.486951</td>\n",
       "      <td>71.999922</td>\n",
       "      <td>74.770119</td>\n",
       "      <td>71.005236</td>\n",
       "      <td>...</td>\n",
       "      <td>129.342344</td>\n",
       "      <td>111.189778</td>\n",
       "      <td>103.416525</td>\n",
       "      <td>108.936510</td>\n",
       "      <td>108.253157</td>\n",
       "      <td>109.067937</td>\n",
       "      <td>101.122366</td>\n",
       "      <td>96.299693</td>\n",
       "      <td>86.516061</td>\n",
       "      <td>92.997436</td>\n",
       "    </tr>\n",
       "    <tr>\n",
       "      <th>300</th>\n",
       "      <td>CO2</td>\n",
       "      <td>Buildings</td>\n",
       "      <td>ITA</td>\n",
       "      <td>Italy, San Marino and the Holy See</td>\n",
       "      <td>66.959557</td>\n",
       "      <td>72.590422</td>\n",
       "      <td>78.507695</td>\n",
       "      <td>80.068526</td>\n",
       "      <td>79.235537</td>\n",
       "      <td>79.742923</td>\n",
       "      <td>...</td>\n",
       "      <td>76.819108</td>\n",
       "      <td>76.150034</td>\n",
       "      <td>64.899388</td>\n",
       "      <td>70.911294</td>\n",
       "      <td>71.104044</td>\n",
       "      <td>70.758140</td>\n",
       "      <td>71.298729</td>\n",
       "      <td>68.762820</td>\n",
       "      <td>63.886392</td>\n",
       "      <td>68.976266</td>\n",
       "    </tr>\n",
       "    <tr>\n",
       "      <th>508</th>\n",
       "      <td>CO2</td>\n",
       "      <td>Transport</td>\n",
       "      <td>ITA</td>\n",
       "      <td>Italy, San Marino and the Holy See</td>\n",
       "      <td>46.219192</td>\n",
       "      <td>48.167830</td>\n",
       "      <td>51.436468</td>\n",
       "      <td>55.229348</td>\n",
       "      <td>51.825451</td>\n",
       "      <td>54.974965</td>\n",
       "      <td>...</td>\n",
       "      <td>102.511045</td>\n",
       "      <td>100.723344</td>\n",
       "      <td>105.392849</td>\n",
       "      <td>103.008501</td>\n",
       "      <td>101.711254</td>\n",
       "      <td>97.611058</td>\n",
       "      <td>100.202582</td>\n",
       "      <td>100.918684</td>\n",
       "      <td>82.667374</td>\n",
       "      <td>92.101010</td>\n",
       "    </tr>\n",
       "  </tbody>\n",
       "</table>\n",
       "<p>3 rows × 56 columns</p>\n",
       "</div>"
      ],
      "text/plain": [
       "    Substance          Sector EDGAR Country Code  \\\n",
       "94        CO2  Power Industry                ITA   \n",
       "300       CO2       Buildings                ITA   \n",
       "508       CO2       Transport                ITA   \n",
       "\n",
       "                                Country       1970       1971       1972  \\\n",
       "94   Italy, San Marino and the Holy See  51.622832  57.961169  62.486951   \n",
       "300  Italy, San Marino and the Holy See  66.959557  72.590422  78.507695   \n",
       "508  Italy, San Marino and the Holy See  46.219192  48.167830  51.436468   \n",
       "\n",
       "          1973       1974       1975  ...        2012        2013        2014  \\\n",
       "94   71.999922  74.770119  71.005236  ...  129.342344  111.189778  103.416525   \n",
       "300  80.068526  79.235537  79.742923  ...   76.819108   76.150034   64.899388   \n",
       "508  55.229348  51.825451  54.974965  ...  102.511045  100.723344  105.392849   \n",
       "\n",
       "           2015        2016        2017        2018        2019       2020  \\\n",
       "94   108.936510  108.253157  109.067937  101.122366   96.299693  86.516061   \n",
       "300   70.911294   71.104044   70.758140   71.298729   68.762820  63.886392   \n",
       "508  103.008501  101.711254   97.611058  100.202582  100.918684  82.667374   \n",
       "\n",
       "          2021  \n",
       "94   92.997436  \n",
       "300  68.976266  \n",
       "508  92.101010  \n",
       "\n",
       "[3 rows x 56 columns]"
      ]
     },
     "execution_count": 3,
     "metadata": {},
     "output_type": "execute_result"
    }
   ],
   "source": [
    "emission_data = pd.read_csv('data/fossil_CO2_by_sector_and_country.csv')\n",
    "emission_data[emission_data['EDGAR Country Code'] == 'ITA'].head(3)\n"
   ]
  },
  {
   "cell_type": "markdown",
   "id": "4bf8c47a",
   "metadata": {},
   "source": [
    "Per uniformare i dataset è stato necessario riorganizzare i dati in modo che ogni riga rappresenti un singolo anno di dati sulle emissioni per un singolo paese, settore e sostanza. Questo è stato fatto tramite la funzione melt. "
   ]
  },
  {
   "cell_type": "code",
   "execution_count": 4,
   "id": "566c9ef9",
   "metadata": {},
   "outputs": [
    {
     "data": {
      "text/html": [
       "<div>\n",
       "<style scoped>\n",
       "    .dataframe tbody tr th:only-of-type {\n",
       "        vertical-align: middle;\n",
       "    }\n",
       "\n",
       "    .dataframe tbody tr th {\n",
       "        vertical-align: top;\n",
       "    }\n",
       "\n",
       "    .dataframe thead th {\n",
       "        text-align: right;\n",
       "    }\n",
       "</style>\n",
       "<table border=\"1\" class=\"dataframe\">\n",
       "  <thead>\n",
       "    <tr style=\"text-align: right;\">\n",
       "      <th></th>\n",
       "      <th>ISO</th>\n",
       "      <th>Country</th>\n",
       "      <th>Year</th>\n",
       "      <th>Substance</th>\n",
       "      <th>Sector</th>\n",
       "      <th>Emissions</th>\n",
       "    </tr>\n",
       "  </thead>\n",
       "  <tbody>\n",
       "    <tr>\n",
       "      <th>52930</th>\n",
       "      <td>ITA</td>\n",
       "      <td>Italy, San Marino and the Holy See</td>\n",
       "      <td>2021</td>\n",
       "      <td>CO2</td>\n",
       "      <td>Power Industry</td>\n",
       "      <td>92.997436</td>\n",
       "    </tr>\n",
       "    <tr>\n",
       "      <th>53136</th>\n",
       "      <td>ITA</td>\n",
       "      <td>Italy, San Marino and the Holy See</td>\n",
       "      <td>2021</td>\n",
       "      <td>CO2</td>\n",
       "      <td>Buildings</td>\n",
       "      <td>68.976266</td>\n",
       "    </tr>\n",
       "    <tr>\n",
       "      <th>53344</th>\n",
       "      <td>ITA</td>\n",
       "      <td>Italy, San Marino and the Holy See</td>\n",
       "      <td>2021</td>\n",
       "      <td>CO2</td>\n",
       "      <td>Transport</td>\n",
       "      <td>92.101010</td>\n",
       "    </tr>\n",
       "    <tr>\n",
       "      <th>53551</th>\n",
       "      <td>ITA</td>\n",
       "      <td>Italy, San Marino and the Holy See</td>\n",
       "      <td>2021</td>\n",
       "      <td>CO2</td>\n",
       "      <td>Other industrial combustion</td>\n",
       "      <td>42.155571</td>\n",
       "    </tr>\n",
       "    <tr>\n",
       "      <th>53759</th>\n",
       "      <td>ITA</td>\n",
       "      <td>Italy, San Marino and the Holy See</td>\n",
       "      <td>2021</td>\n",
       "      <td>CO2</td>\n",
       "      <td>Other sectors</td>\n",
       "      <td>23.438728</td>\n",
       "    </tr>\n",
       "  </tbody>\n",
       "</table>\n",
       "</div>"
      ],
      "text/plain": [
       "       ISO                             Country  Year Substance  \\\n",
       "52930  ITA  Italy, San Marino and the Holy See  2021       CO2   \n",
       "53136  ITA  Italy, San Marino and the Holy See  2021       CO2   \n",
       "53344  ITA  Italy, San Marino and the Holy See  2021       CO2   \n",
       "53551  ITA  Italy, San Marino and the Holy See  2021       CO2   \n",
       "53759  ITA  Italy, San Marino and the Holy See  2021       CO2   \n",
       "\n",
       "                            Sector  Emissions  \n",
       "52930               Power Industry  92.997436  \n",
       "53136                    Buildings  68.976266  \n",
       "53344                    Transport  92.101010  \n",
       "53551  Other industrial combustion  42.155571  \n",
       "53759                Other sectors  23.438728  "
      ]
     },
     "execution_count": 4,
     "metadata": {},
     "output_type": "execute_result"
    }
   ],
   "source": [
    "emission_data = emission_data.melt(id_vars=['Substance', 'Sector', 'EDGAR Country Code', 'Country'], var_name='Year', value_name='emissions')\n",
    "emission_data['Year'] = emission_data['Year'].astype(int)\n",
    "emission_data = emission_data[['EDGAR Country Code', \n",
    "                               'Country',\n",
    "                               'Year',\n",
    "                               'Substance',\n",
    "                               'Sector', \n",
    "                               'emissions']]\n",
    "emission_data = emission_data[emission_data['Year'] >= 1985]\n",
    "emission_data = emission_data.rename(columns={\n",
    "    'EDGAR Country Code': 'ISO', \n",
    "    'emissions': 'Emissions'\n",
    "})\n",
    "emission_data[(emission_data['ISO'] == 'ITA') & (emission_data['Year'] == 2021)]\n"
   ]
  },
  {
   "cell_type": "markdown",
   "id": "16e8614b",
   "metadata": {},
   "source": [
    "## Unione dei dataset"
   ]
  },
  {
   "cell_type": "markdown",
   "id": "e3b8ffb6",
   "metadata": {},
   "source": [
    "Per unire i dataset, è stato eseguito un merge. Prima di procedere con l'unione, sono stati effettuati diversi passaggi di trasformazione e aggregazione sui dati. Inizialmente, i dati sono stati raggruppati per 'ISO', 'Year' e 'Sector', sommando le emissioni di CO2 per ciascun gruppo. Successivamente, è stata creata una pivot table per trasformare il formato dei dati, ottenendo ogni settore come una colonna separata. Le colonne sono state rinominate per migliorare la comprensione dei dati e, inoltre, è stata calcolata la somma totale delle emissioni di CO2 per ciascuna riga, sommando le emissioni di tutti i settori. Infine, i due dataset sono stati uniti sulla base delle colonne 'ISO' e 'Year', mantenendo tutte le righe del dataset sulla produzione di energia elettrica e unendo i dati sulle emissioni di CO2 corrispondenti, se disponibili."
   ]
  },
  {
   "cell_type": "code",
   "execution_count": 5,
   "id": "28930340",
   "metadata": {},
   "outputs": [
    {
     "data": {
      "text/html": [
       "<div>\n",
       "<style scoped>\n",
       "    .dataframe tbody tr th:only-of-type {\n",
       "        vertical-align: middle;\n",
       "    }\n",
       "\n",
       "    .dataframe tbody tr th {\n",
       "        vertical-align: top;\n",
       "    }\n",
       "\n",
       "    .dataframe thead th {\n",
       "        text-align: right;\n",
       "    }\n",
       "</style>\n",
       "<table border=\"1\" class=\"dataframe\">\n",
       "  <thead>\n",
       "    <tr style=\"text-align: right;\">\n",
       "      <th></th>\n",
       "      <th>ISO</th>\n",
       "      <th>Country</th>\n",
       "      <th>Year</th>\n",
       "      <th>Pop</th>\n",
       "      <th>EU</th>\n",
       "      <th>Region</th>\n",
       "      <th>SubRegion</th>\n",
       "      <th>ElectBy_Coal</th>\n",
       "      <th>ElectBy_Gas</th>\n",
       "      <th>ElectBy_Hydro</th>\n",
       "      <th>...</th>\n",
       "      <th>ElectBy_Oil</th>\n",
       "      <th>ElectBy_Other</th>\n",
       "      <th>ElectBy_NewRenewables</th>\n",
       "      <th>Total_ElectProd</th>\n",
       "      <th>CO2By_Buildings</th>\n",
       "      <th>CO2By_OtherCombustion</th>\n",
       "      <th>CO2By_OtherSectors</th>\n",
       "      <th>CO2By_ElectProd</th>\n",
       "      <th>CO2By_Transport</th>\n",
       "      <th>Total_CO2</th>\n",
       "    </tr>\n",
       "  </thead>\n",
       "  <tbody>\n",
       "    <tr>\n",
       "      <th>1604</th>\n",
       "      <td>ITA</td>\n",
       "      <td>Italy</td>\n",
       "      <td>2019</td>\n",
       "      <td>59.91075</td>\n",
       "      <td>1.0</td>\n",
       "      <td>Europe</td>\n",
       "      <td>Europe</td>\n",
       "      <td>21.291300</td>\n",
       "      <td>141.687000</td>\n",
       "      <td>47.154800</td>\n",
       "      <td>...</td>\n",
       "      <td>11.822400</td>\n",
       "      <td>2.536900</td>\n",
       "      <td>69.360800</td>\n",
       "      <td>293.853200</td>\n",
       "      <td>68.762820</td>\n",
       "      <td>43.336105</td>\n",
       "      <td>25.120257</td>\n",
       "      <td>96.299693</td>\n",
       "      <td>100.918684</td>\n",
       "      <td>334.437560</td>\n",
       "    </tr>\n",
       "    <tr>\n",
       "      <th>1605</th>\n",
       "      <td>ITA</td>\n",
       "      <td>Italy</td>\n",
       "      <td>2020</td>\n",
       "      <td>59.48365</td>\n",
       "      <td>1.0</td>\n",
       "      <td>Europe</td>\n",
       "      <td>Europe</td>\n",
       "      <td>15.076100</td>\n",
       "      <td>133.682800</td>\n",
       "      <td>45.728624</td>\n",
       "      <td>...</td>\n",
       "      <td>11.439900</td>\n",
       "      <td>5.789642</td>\n",
       "      <td>68.813934</td>\n",
       "      <td>280.531000</td>\n",
       "      <td>63.886392</td>\n",
       "      <td>38.939206</td>\n",
       "      <td>23.410041</td>\n",
       "      <td>86.516061</td>\n",
       "      <td>82.667374</td>\n",
       "      <td>295.419074</td>\n",
       "    </tr>\n",
       "    <tr>\n",
       "      <th>1606</th>\n",
       "      <td>ITA</td>\n",
       "      <td>Italy</td>\n",
       "      <td>2021</td>\n",
       "      <td>59.26080</td>\n",
       "      <td>1.0</td>\n",
       "      <td>Europe</td>\n",
       "      <td>Europe</td>\n",
       "      <td>14.523271</td>\n",
       "      <td>146.418501</td>\n",
       "      <td>43.056321</td>\n",
       "      <td>...</td>\n",
       "      <td>8.274411</td>\n",
       "      <td>3.489428</td>\n",
       "      <td>71.441345</td>\n",
       "      <td>287.203277</td>\n",
       "      <td>68.976266</td>\n",
       "      <td>42.155571</td>\n",
       "      <td>23.438728</td>\n",
       "      <td>92.997436</td>\n",
       "      <td>92.101010</td>\n",
       "      <td>319.669011</td>\n",
       "    </tr>\n",
       "  </tbody>\n",
       "</table>\n",
       "<p>3 rows × 21 columns</p>\n",
       "</div>"
      ],
      "text/plain": [
       "      ISO Country  Year       Pop   EU  Region SubRegion  ElectBy_Coal  \\\n",
       "1604  ITA   Italy  2019  59.91075  1.0  Europe    Europe     21.291300   \n",
       "1605  ITA   Italy  2020  59.48365  1.0  Europe    Europe     15.076100   \n",
       "1606  ITA   Italy  2021  59.26080  1.0  Europe    Europe     14.523271   \n",
       "\n",
       "      ElectBy_Gas  ElectBy_Hydro  ...  ElectBy_Oil  ElectBy_Other  \\\n",
       "1604   141.687000      47.154800  ...    11.822400       2.536900   \n",
       "1605   133.682800      45.728624  ...    11.439900       5.789642   \n",
       "1606   146.418501      43.056321  ...     8.274411       3.489428   \n",
       "\n",
       "      ElectBy_NewRenewables  Total_ElectProd  CO2By_Buildings  \\\n",
       "1604              69.360800       293.853200        68.762820   \n",
       "1605              68.813934       280.531000        63.886392   \n",
       "1606              71.441345       287.203277        68.976266   \n",
       "\n",
       "      CO2By_OtherCombustion  CO2By_OtherSectors  CO2By_ElectProd  \\\n",
       "1604              43.336105           25.120257        96.299693   \n",
       "1605              38.939206           23.410041        86.516061   \n",
       "1606              42.155571           23.438728        92.997436   \n",
       "\n",
       "      CO2By_Transport   Total_CO2  \n",
       "1604       100.918684  334.437560  \n",
       "1605        82.667374  295.419074  \n",
       "1606        92.101010  319.669011  \n",
       "\n",
       "[3 rows x 21 columns]"
      ]
     },
     "execution_count": 5,
     "metadata": {},
     "output_type": "execute_result"
    }
   ],
   "source": [
    "emission_data_grouped = emission_data.groupby(['ISO', 'Year', 'Sector']).sum().reset_index()\n",
    "\n",
    "emission_data_wide = emission_data_grouped.pivot_table(index=['ISO', 'Year'], columns='Sector', values='Emissions').reset_index()\n",
    "\n",
    "emission_data_wide.columns = ['ISO', 'Year', 'CO2By_Buildings', 'CO2By_OtherCombustion', 'CO2By_OtherSectors', 'CO2By_ElectProd', 'CO2By_Transport']\n",
    "\n",
    "emission_data_wide['Total_CO2'] = emission_data_wide[['CO2By_Buildings', 'CO2By_ElectProd', 'CO2By_OtherCombustion', 'CO2By_OtherSectors', 'CO2By_Transport']].sum(axis=1)\n",
    "\n",
    "merged_data = pd.merge(production_data, emission_data_wide, on=['ISO', 'Year'], how='left')\n",
    "\n",
    "merged_data[(merged_data['ISO'] == 'ITA') & (merged_data['Year'] >= 2019)]\n"
   ]
  },
  {
   "cell_type": "markdown",
   "id": "55ce5cb6",
   "metadata": {},
   "source": [
    "# Grafici"
   ]
  },
  {
   "cell_type": "markdown",
   "id": "beeb66d7",
   "metadata": {},
   "source": [
    "## Mondo (Produzione di energia elettrica)"
   ]
  },
  {
   "cell_type": "markdown",
   "id": "4c857e19",
   "metadata": {},
   "source": [
    "### Produzione mondiale lorda di energia elettrica per fonte in assoluto (TWh)"
   ]
  },
  {
   "cell_type": "markdown",
   "id": "851d7561",
   "metadata": {},
   "source": [
    "[Descrizione]"
   ]
  },
  {
   "cell_type": "code",
   "execution_count": 6,
   "id": "2be45042",
   "metadata": {
    "scrolled": false
   },
   "outputs": [
    {
     "data": {
      "image/png": "[encoded data removed]",
      "text/plain": [
       "<Figure size 864x432 with 1 Axes>"
      ]
     },
     "metadata": {
      "needs_background": "light"
     },
     "output_type": "display_data"
    }
   ],
   "source": [
    "grouped_data = production_data.groupby('Year')[['ElectBy_Coal', 'ElectBy_Gas', 'ElectBy_Hydro', 'ElectBy_Nuclear', 'ElectBy_Oil', 'ElectBy_Other', 'ElectBy_NewRenewables']].sum()\n",
    "\n",
    "plt.figure(figsize=(12, 6))\n",
    "plt.plot(grouped_data.index, grouped_data['ElectBy_Coal'], label='Carbone')\n",
    "plt.plot(grouped_data.index, grouped_data['ElectBy_Gas'], label='Gas')\n",
    "plt.plot(grouped_data.index, grouped_data['ElectBy_Hydro'], label='Idroelettrico')\n",
    "plt.plot(grouped_data.index, grouped_data['ElectBy_NewRenewables'], label='Nuove rinnovabili: Eolica, Solare, Biomasse, Geotermica e altre')\n",
    "plt.plot(grouped_data.index, grouped_data['ElectBy_Nuclear'], label='Nucleare')\n",
    "plt.plot(grouped_data.index, grouped_data['ElectBy_Oil'], label='Petrolio')\n",
    "plt.plot(grouped_data.index, grouped_data['ElectBy_Other'], label='Altro')\n",
    "\n",
    "plt.xlabel('Anno')\n",
    "plt.ylabel('Produzione mondiale lorda di energia elettrica (TWh)')\n",
    "plt.title('Produzione mondiale lorda di energia elettrica per fonte in assoluto (TWh)')\n",
    "plt.legend()\n",
    "plt.grid()\n",
    "plt.show()"
   ]
  },
  {
   "cell_type": "markdown",
   "id": "ac97513f",
   "metadata": {},
   "source": [
    "### Produzione mondiale lorda di energia elettrica per fonte in percentuale (%)"
   ]
  },
  {
   "cell_type": "markdown",
   "id": "5306fbe0",
   "metadata": {},
   "source": [
    "[Descrizione]"
   ]
  },
  {
   "cell_type": "code",
   "execution_count": 7,
   "id": "a9555b49",
   "metadata": {},
   "outputs": [],
   "source": [
    "# Line chart(Tutte le fonti)"
   ]
  },
  {
   "cell_type": "markdown",
   "id": "1af83516",
   "metadata": {},
   "source": [
    "[Descrizione]"
   ]
  },
  {
   "cell_type": "code",
   "execution_count": 8,
   "id": "8337cd4a",
   "metadata": {},
   "outputs": [],
   "source": [
    "# Area chart (Non rinnovabili, Rinnovabili, Nucleare, Altro)"
   ]
  },
  {
   "cell_type": "markdown",
   "id": "e5c041c1",
   "metadata": {},
   "source": [
    "### Produzione mondiale lorda di energia elettrica per area geografica in assoluto (TWh)"
   ]
  },
  {
   "cell_type": "markdown",
   "id": "90573bab",
   "metadata": {},
   "source": [
    "[Descrizione]"
   ]
  },
  {
   "cell_type": "code",
   "execution_count": 9,
   "id": "c8f695c1",
   "metadata": {},
   "outputs": [
    {
     "data": {
      "image/png": "[encoded data removed]",
      "text/plain": [
       "<Figure size 864x432 with 1 Axes>"
      ]
     },
     "metadata": {
      "needs_background": "light"
     },
     "output_type": "display_data"
    }
   ],
   "source": [
    "eu_data = production_data[production_data['ISO'].isin(['BEL', 'BGR', 'CZE', 'DNK', 'DEU', 'EST', 'IRL', 'GRC', 'ESP', 'FRA', 'HRV', 'ITA', 'CYP', 'LVA', 'LTU', 'LUX', 'HUN', 'MLT', 'NLD', 'AUT', 'POL', 'PRT', 'ROU', 'SVN', 'SVK', 'FIN', 'SWE'])]\n",
    "eu_data = eu_data.groupby('Year')['Total_ElectProd'].sum()\n",
    "\n",
    "countries = ['USA', 'CHN', 'JPN', 'RUS', 'IND', 'DEU', 'CAN']\n",
    "\n",
    "plt.figure(figsize=(12, 6))\n",
    "\n",
    "plt.plot(eu_data.index, eu_data, label='EU')\n",
    "\n",
    "for country in countries:\n",
    "    data = production_data[production_data['ISO'] == country].groupby('Year')['Total_ElectProd'].sum()\n",
    "    plt.plot(data.index, data, label=country)\n",
    "\n",
    "plt.xlabel('Anno')\n",
    "plt.ylabel('Produzione totale di energia elettrica (TWh)')\n",
    "plt.title('Produzione mondiale lorda di energia elettrica per area geografica in assoluto (TWh)')\n",
    "plt.legend()\n",
    "plt.grid()\n",
    "plt.show()"
   ]
  },
  {
   "cell_type": "markdown",
   "id": "c967504d",
   "metadata": {},
   "source": [
    "## Europa (Produzione di energia elettrica)"
   ]
  },
  {
   "cell_type": "markdown",
   "id": "b70d0647",
   "metadata": {},
   "source": [
    "### Produzione europea lorda di energia elettrica per fonte in assoluto (TWh)"
   ]
  },
  {
   "cell_type": "markdown",
   "id": "a0265041",
   "metadata": {},
   "source": [
    "[Descrizione]"
   ]
  },
  {
   "cell_type": "code",
   "execution_count": 10,
   "id": "df1ec6f0",
   "metadata": {},
   "outputs": [
    {
     "data": {
      "image/png": "[encoded data removed]",
      "text/plain": [
       "<Figure size 864x432 with 1 Axes>"
      ]
     },
     "metadata": {
      "needs_background": "light"
     },
     "output_type": "display_data"
    }
   ],
   "source": [
    "eu_data = production_data[production_data['ISO'].isin(['BEL', 'BGR', 'CZE', 'DNK', 'DEU', 'EST', 'IRL', 'GRC', 'ESP', 'FRA', 'HRV', 'ITA', 'CYP', 'LVA', 'LTU', 'LUX', 'HUN', 'MLT', 'NLD', 'AUT', 'POL', 'PRT', 'ROU', 'SVN', 'SVK', 'FIN', 'SWE'])]\n",
    "grouped_data = eu_data.groupby('Year')[['ElectBy_Coal', 'ElectBy_Gas', 'ElectBy_Hydro', 'ElectBy_Nuclear', 'ElectBy_Oil', 'ElectBy_Other', 'ElectBy_NewRenewables']].sum()\n",
    "\n",
    "plt.figure(figsize=(12, 6))\n",
    "plt.plot(grouped_data.index, grouped_data['ElectBy_Coal'], label='Carbone')\n",
    "plt.plot(grouped_data.index, grouped_data['ElectBy_Gas'], label='Gas')\n",
    "plt.plot(grouped_data.index, grouped_data['ElectBy_Hydro'], label='Idroelettrico')\n",
    "plt.plot(grouped_data.index, grouped_data['ElectBy_NewRenewables'], label='Nuove rinnovabili: Eolica, Solare, Biomasse, Geotermica e altre')\n",
    "plt.plot(grouped_data.index, grouped_data['ElectBy_Nuclear'], label='Nucleare')\n",
    "plt.plot(grouped_data.index, grouped_data['ElectBy_Oil'], label='Petrolio')\n",
    "plt.plot(grouped_data.index, grouped_data['ElectBy_Other'], label='Altro')\n",
    "\n",
    "plt.xlabel('Anno')\n",
    "plt.ylabel('Produzione totale di energia elettrica (TWh)')\n",
    "plt.title('Produzione lorda di energia elettrica in Europa per fonte in assoluto (TWh)')\n",
    "plt.legend()\n",
    "plt.grid()\n",
    "plt.show()\n"
   ]
  },
  {
   "cell_type": "markdown",
   "id": "5265102f",
   "metadata": {},
   "source": [
    "### Produzione europea lorda di energia elettrica per fonte in percentuale (%)"
   ]
  },
  {
   "cell_type": "markdown",
   "id": "6c0c898f",
   "metadata": {},
   "source": [
    "[Descrizione]"
   ]
  },
  {
   "cell_type": "code",
   "execution_count": 11,
   "id": "dc28a0c5",
   "metadata": {},
   "outputs": [],
   "source": [
    "# Line chart(Tutte le fonti)"
   ]
  },
  {
   "cell_type": "markdown",
   "id": "5c4940ce",
   "metadata": {},
   "source": [
    "[Descrizione]"
   ]
  },
  {
   "cell_type": "code",
   "execution_count": 12,
   "id": "67f8cdb2",
   "metadata": {},
   "outputs": [],
   "source": [
    "# Area chart (Non rinnovabili, Rinnovabili, Nucleare, Altro)"
   ]
  },
  {
   "cell_type": "markdown",
   "id": "3c074bcd",
   "metadata": {},
   "source": [
    "### Energia elettrica prodotta per stato in assoluto negli ultimi 10 anni (TWh)"
   ]
  },
  {
   "cell_type": "markdown",
   "id": "4d1661f2",
   "metadata": {},
   "source": [
    "[Descrizione]"
   ]
  },
  {
   "cell_type": "code",
   "execution_count": 13,
   "id": "bd017da4",
   "metadata": {},
   "outputs": [],
   "source": [
    "# Word cloud"
   ]
  },
  {
   "cell_type": "markdown",
   "id": "92aa62d1",
   "metadata": {},
   "source": [
    "## Italia (Produzione di energia elettrica)"
   ]
  },
  {
   "cell_type": "markdown",
   "id": "334f535e",
   "metadata": {},
   "source": [
    "### Produzione lorda di energia elettrica per fonte in assoluto negli ultimi 10 anni (TWh)"
   ]
  },
  {
   "cell_type": "markdown",
   "id": "f6e19ca3",
   "metadata": {},
   "source": [
    "[Descrizione]"
   ]
  },
  {
   "cell_type": "code",
   "execution_count": 14,
   "id": "f35d81ad",
   "metadata": {},
   "outputs": [],
   "source": [
    "# Bar chart"
   ]
  },
  {
   "cell_type": "markdown",
   "id": "b89be184",
   "metadata": {},
   "source": [
    "### Produzione lorda di energia elettrica per categoria in percentuale negli ultimi 10 anni (%)"
   ]
  },
  {
   "cell_type": "code",
   "execution_count": 15,
   "id": "32da89bc",
   "metadata": {},
   "outputs": [],
   "source": [
    "# Pie chart (Non rinnovabili, Rinnovabili, Nucleare, Altro)"
   ]
  },
  {
   "cell_type": "markdown",
   "id": "761dc692",
   "metadata": {},
   "source": [
    "## Confronto"
   ]
  },
  {
   "cell_type": "markdown",
   "id": "8459e213",
   "metadata": {},
   "source": [
    "### Confronto percentuali per fonte per Mondo, Unione Europea, Italia, Stati Uniti e Cina"
   ]
  },
  {
   "cell_type": "markdown",
   "id": "3d331ca7",
   "metadata": {},
   "source": [
    "[Descrizione]"
   ]
  },
  {
   "cell_type": "code",
   "execution_count": 16,
   "id": "b15562bf",
   "metadata": {},
   "outputs": [],
   "source": [
    "# Line chart (Non rinnovabili, Rinnovabili, Nucleare)"
   ]
  },
  {
   "cell_type": "markdown",
   "id": "8422f9eb",
   "metadata": {},
   "source": [
    "## Emissioni per settore"
   ]
  },
  {
   "cell_type": "markdown",
   "id": "b4de4ae2",
   "metadata": {},
   "source": [
    "[Descrizione]"
   ]
  },
  {
   "cell_type": "code",
   "execution_count": 17,
   "id": "52db73cc",
   "metadata": {},
   "outputs": [],
   "source": [
    "# TreeMap"
   ]
  },
  {
   "cell_type": "markdown",
   "id": "22dc448e",
   "metadata": {},
   "source": [
    "### Box plot per le emissioni (1991, 2001, 2011, 2021)"
   ]
  },
  {
   "cell_type": "markdown",
   "id": "cb6fb448",
   "metadata": {},
   "source": [
    "[Descrizione]"
   ]
  },
  {
   "cell_type": "code",
   "execution_count": 18,
   "id": "d7198735",
   "metadata": {},
   "outputs": [],
   "source": [
    "# Box plot"
   ]
  },
  {
   "cell_type": "markdown",
   "id": "d3dfb19d",
   "metadata": {},
   "source": [
    "### Emissioni di CO2 (Power Industry) per paese "
   ]
  },
  {
   "cell_type": "markdown",
   "id": "b9872742",
   "metadata": {},
   "source": [
    "[Descrizione]"
   ]
  },
  {
   "cell_type": "code",
   "execution_count": 19,
   "id": "312c9f13",
   "metadata": {},
   "outputs": [],
   "source": [
    "# Line chart"
   ]
  },
  {
   "cell_type": "markdown",
   "id": "60ef1836",
   "metadata": {},
   "source": [
    "### Emissioni di CO2 (Power Industry) nel 2021"
   ]
  },
  {
   "cell_type": "markdown",
   "id": "14695445",
   "metadata": {},
   "source": [
    "[Descrizione]"
   ]
  },
  {
   "cell_type": "code",
   "execution_count": 20,
   "id": "e1d68581",
   "metadata": {},
   "outputs": [],
   "source": [
    "# Pie chart a livelli"
   ]
  },
  {
   "cell_type": "markdown",
   "id": "7eb63730",
   "metadata": {},
   "source": [
    "### Relazione tra Energia elettrica prodotta ed emissioni della power industry "
   ]
  },
  {
   "cell_type": "markdown",
   "id": "2ec1b18b",
   "metadata": {},
   "source": [
    "[Descrizione]"
   ]
  },
  {
   "cell_type": "code",
   "execution_count": 21,
   "id": "b01fdc49",
   "metadata": {},
   "outputs": [],
   "source": [
    "# Scatter Plot"
   ]
  }
 ],
 "metadata": {
  "kernelspec": {
   "display_name": "Python 3 (ipykernel)",
   "language": "python",
   "name": "python3"
  },
  "language_info": {
   "codemirror_mode": {
    "name": "ipython",
    "version": 3
   },
   "file_extension": ".py",
   "mimetype": "text/x-python",
   "name": "python",
   "nbconvert_exporter": "python",
   "pygments_lexer": "ipython3",
   "version": "3.9.7"
  }
 },
 "nbformat": 4,
 "nbformat_minor": 5
}
